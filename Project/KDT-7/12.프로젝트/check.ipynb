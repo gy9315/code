{
 "cells": [
  {
   "cell_type": "code",
   "execution_count": 1,
   "id": "7a07fda4",
   "metadata": {},
   "outputs": [],
   "source": [
    "import pandas as pd\n",
    "import torch\n",
    "from gensim.models.word2vec import Word2Vec\n",
    "import re\n",
    "from collections import Counter"
   ]
  },
  {
   "cell_type": "code",
   "execution_count": 15,
   "id": "49ded5aa",
   "metadata": {},
   "outputs": [],
   "source": [
    "class Embedded_Model():\n",
    "    def __init__(self,path,add_path):\n",
    "        self.DF=pd.read_csv(path,index_col=0)\n",
    "        self.data=self.DF['name']\n",
    "        self.DF1=pd.read_csv(add_path,index_col=0)\n",
    "        self.data1=self.DF1['name']\n",
    "        self.data=pd.concat([self.data,self.data1])\n",
    "        self.data=self.process()\n",
    "    def process(self):\n",
    "        self.data=self.data.apply(lambda x:re.sub(r'.*\\d+회','',x).strip())\n",
    "        for punc in '[!\\\"#$%&\\'()*+,-./:;<=>?@\\[\\]^_`{|}~]':\n",
    "            self.data=self.data.apply(lambda x: str.replace(x,punc,' '))\n",
    "        return self.data.apply(lambda x: [y for y in x.split(' ') if len(y)>=2])\n",
    "    def word2vec(self):\n",
    "        wordvec=Word2Vec(self.data.tolist(),vector_size=256,alpha=0.02,negative=10,window=3,min_count=1,sg=1,epochs=200,max_final_vocab=None)\n",
    "        wordvec.save('word2vec.model')\n",
    "        # torch.save(torch.tensor([wordvec.wv[word] for word in wordvec.wv.index_to_key]),'word2vec.model')\n",
    "        # print(1)\n",
    "        return {y:x for x,y in enumerate(wordvec.wv.index_to_key)}\n",
    "    \n",
    "class Predict_name():\n",
    "    def __init__(self,path,model):\n",
    "        self.DF=pd.read_csv(path,index_col=0)\n",
    "        self.word2vec=Word2Vec.load(model)\n",
    "    def pred(self,pred_name,number:int=None):\n",
    "        if number==None:\n",
    "            number=5\n",
    "        try:\n",
    "            self.pred_name_list=[x for x in self.word2vec.wv.index_to_key if pred_name.lower() in x.lower()]\n",
    "        except:\n",
    "            self.pred_name_list=[]\n",
    "        print(self.pred_name_list)\n",
    "        if len(self.pred_name_list)!=0:\n",
    "        # self.pred_name=pred_name.lower()\n",
    "            self.name=self.DF['name']\n",
    "            total_match_list=[]\n",
    "            for pred_name in self.pred_name_list:\n",
    "                self.word_list=[x for x,y in self.word2vec.wv.most_similar(pred_name,topn=number)]\n",
    "                match_list=[]\n",
    "                for word in self.word_list:\n",
    "                    match=self.DF.loc[self.name.apply(lambda x: True if word in x.lower() else False),'name'].tolist()\n",
    "                    match_list.extend(match)\n",
    "                total_match_list.extend(match_list)\n",
    "            dict1=dict(Counter(total_match_list))\n",
    "            return dict(sorted(dict1.items(),key=lambda x:x[1],reverse=True))\n",
    "        else:\n",
    "            return '키워드 없음'\n",
    "            \n"
   ]
  },
  {
   "cell_type": "code",
   "execution_count": 3,
   "id": "699f7538",
   "metadata": {},
   "outputs": [],
   "source": [
    "emb=Embedded_Model('./info.csv','./add_info.csv')"
   ]
  },
  {
   "cell_type": "code",
   "execution_count": 4,
   "id": "a7945445",
   "metadata": {},
   "outputs": [],
   "source": [
    "word2vec=emb.word2vec()"
   ]
  },
  {
   "cell_type": "code",
   "execution_count": 158,
   "id": "df35e132",
   "metadata": {},
   "outputs": [
    {
     "data": {
      "text/plain": [
       "['공군부대']"
      ]
     },
     "execution_count": 158,
     "metadata": {},
     "output_type": "execute_result"
    }
   ],
   "source": [
    "w=Word2Vec.load('./word2vec.model')\n",
    "[x for x in w.wv.index_to_key if '공군' in x]"
   ]
  },
  {
   "cell_type": "code",
   "execution_count": 16,
   "id": "d9181775",
   "metadata": {},
   "outputs": [
    {
     "name": "stdout",
     "output_type": "stream",
     "text": [
      "['공군부대']\n"
     ]
    }
   ],
   "source": [
    "model=Predict_name('./info.csv','./word2vec.model')\n",
    "pred_=model.pred('공군',number=5)"
   ]
  },
  {
   "cell_type": "code",
   "execution_count": 17,
   "id": "acf0f919",
   "metadata": {},
   "outputs": [
    {
     "data": {
      "text/plain": [
       "{'공군부대 공간혁신구역 선도사업지 시민 아이디어 공모전': 2}"
      ]
     },
     "execution_count": 17,
     "metadata": {},
     "output_type": "execute_result"
    }
   ],
   "source": [
    "pred_"
   ]
  }
 ],
 "metadata": {
  "kernelspec": {
   "display_name": "NLP",
   "language": "python",
   "name": "python3"
  },
  "language_info": {
   "codemirror_mode": {
    "name": "ipython",
    "version": 3
   },
   "file_extension": ".py",
   "mimetype": "text/x-python",
   "name": "python",
   "nbconvert_exporter": "python",
   "pygments_lexer": "ipython3",
   "version": "3.8.20"
  }
 },
 "nbformat": 4,
 "nbformat_minor": 5
}
