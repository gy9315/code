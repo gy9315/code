{
 "cells": [
  {
   "cell_type": "markdown",
   "metadata": {},
   "source": [
    "[다양한 형식으로 데이터 저장]"
   ]
  },
  {
   "cell_type": "markdown",
   "metadata": {},
   "source": [
    "[1] 모듈 로딩 및 데이터 준비 <hr>"
   ]
  },
  {
   "cell_type": "code",
   "execution_count": 55,
   "metadata": {},
   "outputs": [],
   "source": [
    "# [1-1] 모듈 로딩\n",
    "import pandas as pd # 데이터 분석 및 전처리 관련 모듈\n",
    "import numpy as np # 빈칸 표시 관련 모듈"
   ]
  },
  {
   "cell_type": "code",
   "execution_count": 56,
   "metadata": {},
   "outputs": [],
   "source": [
    "dataDF= pd.DataFrame({'name': ['Raphael', 'Donatello'],\n",
    "                 'mask': ['red', 'purple'],\n",
    "                'weapon': ['sai', 'bo staff']}, \n",
    "                     index=['one','two'])\n",
    "dataDF.to_csv('out.csv', index=False)  "
   ]
  },
  {
   "cell_type": "markdown",
   "metadata": {},
   "source": [
    "[2] 데이터 생성 <hr>"
   ]
  },
  {
   "cell_type": "code",
   "execution_count": 57,
   "metadata": {},
   "outputs": [
    {
     "data": {
      "text/html": [
       "<div>\n",
       "<style scoped>\n",
       "    .dataframe tbody tr th:only-of-type {\n",
       "        vertical-align: middle;\n",
       "    }\n",
       "\n",
       "    .dataframe tbody tr th {\n",
       "        vertical-align: top;\n",
       "    }\n",
       "\n",
       "    .dataframe thead th {\n",
       "        text-align: right;\n",
       "    }\n",
       "</style>\n",
       "<table border=\"1\" class=\"dataframe\">\n",
       "  <thead>\n",
       "    <tr style=\"text-align: right;\">\n",
       "      <th></th>\n",
       "      <th>name</th>\n",
       "      <th>mask</th>\n",
       "      <th>weapon</th>\n",
       "    </tr>\n",
       "  </thead>\n",
       "  <tbody>\n",
       "    <tr>\n",
       "      <th>one</th>\n",
       "      <td>Raphael</td>\n",
       "      <td>red</td>\n",
       "      <td>sai</td>\n",
       "    </tr>\n",
       "    <tr>\n",
       "      <th>two</th>\n",
       "      <td>Donatello</td>\n",
       "      <td>purple</td>\n",
       "      <td>bo staff</td>\n",
       "    </tr>\n",
       "  </tbody>\n",
       "</table>\n",
       "</div>"
      ],
      "text/plain": [
       "          name    mask    weapon\n",
       "one    Raphael     red       sai\n",
       "two  Donatello  purple  bo staff"
      ]
     },
     "execution_count": 57,
     "metadata": {},
     "output_type": "execute_result"
    }
   ],
   "source": [
    "# - DataFrame 생성\n",
    "dataDF"
   ]
  },
  {
   "cell_type": "code",
   "execution_count": 58,
   "metadata": {},
   "outputs": [
    {
     "data": {
      "text/plain": [
       "array(['Raphael', 'Donatello'], dtype=object)"
      ]
     },
     "execution_count": 58,
     "metadata": {},
     "output_type": "execute_result"
    }
   ],
   "source": [
    "# series 생성\n",
    "sr1=dataDF['name']\n",
    "sr2=dataDF['mask']\n",
    "sr3=pd.Series(dataDF['name']).values\n",
    "sr3"
   ]
  },
  {
   "cell_type": "markdown",
   "metadata": {},
   "source": [
    "[3] 파일로 저정하기 <hr>"
   ]
  },
  {
   "cell_type": "code",
   "execution_count": 59,
   "metadata": {},
   "outputs": [],
   "source": [
    "# - csv파일로 저장하기\n",
    "# - 저장경로\n",
    "#   1. 절대경로: C:\\~~~~ window경우 드라이브부터 전체 경로\n",
    "#   2. 상대경로: 현재파일기준 경로 설정\n",
    "#               1) '.' 의미: 현재위치 예) ./파일명\n",
    "#               2) '..'의미: 현재 바로 상위 예) ../../../\n",
    "File_CSV_R='../data1.csv' # 상대경로\n",
    "File_CSV_R2='../data3.csv' # 상대경로\n",
    "File_CSV_A=r'C:\\Users\\gy931\\OneDrive\\Desktop\\KDP-7\\02.PANDAS\\D0121\\data2.csv' # 절대경로"
   ]
  },
  {
   "cell_type": "code",
   "execution_count": 60,
   "metadata": {},
   "outputs": [],
   "source": [
    "## DataFrame-> Series\n",
    "# 인덱스 젤 상단 라벨 설정\n",
    "dataDF.to_csv(File_CSV_R,index_label='No')\n",
    "# 구분자 설정\n",
    "dataDF.to_csv(File_CSV_A,sep=':')\n",
    "\n",
    "# DataFrame의 index 저장하지 않기 -> index parameter=False\n",
    "# 컬럼명 저장하지 않기 설정 parameter: header(기본값: True)\n",
    "# 파일쓰기 모든 설정 parameter: mode(기본값: 'w': 파일 존재 시 내용 지우고 쓰기\n",
    "#                                           'a': 파일 존재 시 내용 붙여넣기기 )\n",
    "dataDF.to_csv(File_CSV_R2,index=False,header=False)"
   ]
  },
  {
   "cell_type": "code",
   "execution_count": 61,
   "metadata": {},
   "outputs": [],
   "source": [
    "# -Series -> csv파일로 저장\n",
    "sr1.to_csv(File_CSV_R,index_label=\"No\")\n"
   ]
  },
  {
   "cell_type": "code",
   "execution_count": 62,
   "metadata": {},
   "outputs": [],
   "source": [
    "# DataFrame -> Json파일로 저장하기\n",
    "File_CSV_R='../data1.json' # 상대경로\n",
    "dataDF.to_json(File_CSV_R)"
   ]
  },
  {
   "cell_type": "code",
   "execution_count": 63,
   "metadata": {},
   "outputs": [],
   "source": [
    "# DataFrame -> Excel파일로 저장하기\n",
    "File_CSV_R='../data1.xlsx' # 상대경로\n",
    "dataDF.to_excel(File_CSV_R)"
   ]
  },
  {
   "cell_type": "code",
   "execution_count": 74,
   "metadata": {},
   "outputs": [
    {
     "data": {
      "text/html": [
       "<div>\n",
       "<style scoped>\n",
       "    .dataframe tbody tr th:only-of-type {\n",
       "        vertical-align: middle;\n",
       "    }\n",
       "\n",
       "    .dataframe tbody tr th {\n",
       "        vertical-align: top;\n",
       "    }\n",
       "\n",
       "    .dataframe thead th {\n",
       "        text-align: right;\n",
       "    }\n",
       "</style>\n",
       "<table border=\"1\" class=\"dataframe\">\n",
       "  <thead>\n",
       "    <tr style=\"text-align: right;\">\n",
       "      <th></th>\n",
       "      <th>name</th>\n",
       "    </tr>\n",
       "    <tr>\n",
       "      <th>No</th>\n",
       "      <th></th>\n",
       "    </tr>\n",
       "  </thead>\n",
       "  <tbody>\n",
       "    <tr>\n",
       "      <th>one</th>\n",
       "      <td>Raphael</td>\n",
       "    </tr>\n",
       "    <tr>\n",
       "      <th>two</th>\n",
       "      <td>Donatello</td>\n",
       "    </tr>\n",
       "  </tbody>\n",
       "</table>\n",
       "</div>"
      ],
      "text/plain": [
       "          name\n",
       "No            \n",
       "one    Raphael\n",
       "two  Donatello"
      ]
     },
     "execution_count": 74,
     "metadata": {},
     "output_type": "execute_result"
    }
   ],
   "source": [
    "pd1=pd.read_csv(r'C:\\Users\\gy931\\OneDrive\\Desktop\\KDP-7\\02.PANDAS\\data1.csv',index_col='No',names=['No','name'],header=0)\n",
    "pd1\n"
   ]
  }
 ],
 "metadata": {
  "kernelspec": {
   "display_name": "PY39",
   "language": "python",
   "name": "python3"
  },
  "language_info": {
   "codemirror_mode": {
    "name": "ipython",
    "version": 3
   },
   "file_extension": ".py",
   "mimetype": "text/x-python",
   "name": "python",
   "nbconvert_exporter": "python",
   "pygments_lexer": "ipython3",
   "version": "3.9.21"
  }
 },
 "nbformat": 4,
 "nbformat_minor": 2
}
