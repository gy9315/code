{
 "cells": [
  {
   "cell_type": "markdown",
   "metadata": {},
   "source": [
    "[미국 자동차 연비 데이터 분석]"
   ]
  },
  {
   "cell_type": "markdown",
   "metadata": {},
   "source": [
    "- 목표: 자동차 연비와 관련된 자동차의 속성을 분석 <hr>  \n",
    "- 데이터set: UCI auto mpg.csv\n",
    "- target col: mpg\n",
    "- feature col: 17 / 다변량\n"
   ]
  },
  {
   "cell_type": "markdown",
   "metadata": {},
   "source": [
    "[1] 모듈로딩 및 데이터 준비 <hr>"
   ]
  },
  {
   "cell_type": "code",
   "execution_count": 171,
   "metadata": {},
   "outputs": [],
   "source": [
    "# [1-1]\n",
    "import pandas as pd  # 데이터 분석 및 전처리 관련 모듈\n",
    "import numpy as np # 배열 파이썬 구현 모듈\n"
   ]
  },
  {
   "cell_type": "code",
   "execution_count": 172,
   "metadata": {},
   "outputs": [],
   "source": [
    "# [1-2] 데이터 로딩딩\n",
    "path='../DATA/auto_mpg.csv'\n",
    "mpgDF=pd.read_csv(path)"
   ]
  },
  {
   "cell_type": "code",
   "execution_count": 173,
   "metadata": {},
   "outputs": [
    {
     "name": "stdout",
     "output_type": "stream",
     "text": [
      "<class 'pandas.core.frame.DataFrame'>\n",
      "RangeIndex: 398 entries, 0 to 397\n",
      "Data columns (total 9 columns):\n",
      " #   Column        Non-Null Count  Dtype  \n",
      "---  ------        --------------  -----  \n",
      " 0   mpg           398 non-null    float64\n",
      " 1   cylinders     398 non-null    int64  \n",
      " 2   displacement  398 non-null    float64\n",
      " 3   horsepower    398 non-null    object \n",
      " 4   weight        398 non-null    int64  \n",
      " 5   acceleration  398 non-null    float64\n",
      " 6   model year    398 non-null    int64  \n",
      " 7   origin        398 non-null    int64  \n",
      " 8   car name      398 non-null    object \n",
      "dtypes: float64(3), int64(4), object(2)\n",
      "memory usage: 28.1+ KB\n",
      "[130, 165, 150, 150, 140, 198, 220, 215, 225, 190, 170, 160, 150, 225, 95, 95, 97, 85, 88, 46, 87, 90, 95, 113, 90, 215, 200, 210, 193, 88, 90, 95, 0, 100, 105, 100, 88, 100, 165, 175, 153, 150, 180, 170, 175, 110, 72, 100, 88, 86, 90, 70, 76, 65, 69, 60, 70, 95, 80, 54, 90, 86, 165, 175, 150, 153, 150, 208, 155, 160, 190, 97, 150, 130, 140, 150, 112, 76, 87, 69, 86, 92, 97, 80, 88, 175, 150, 145, 137, 150, 198, 150, 158, 150, 215, 225, 175, 105, 100, 100, 88, 95, 46, 150, 167, 170, 180, 100, 88, 72, 94, 90, 85, 107, 90, 145, 230, 49, 75, 91, 112, 150, 110, 122, 180, 95, 0, 100, 100, 67, 80, 65, 75, 100, 110, 105, 140, 150, 150, 140, 150, 83, 67, 78, 52, 61, 75, 75, 75, 97, 93, 67, 95, 105, 72, 72, 170, 145, 150, 148, 110, 105, 110, 95, 110, 110, 129, 75, 83, 100, 78, 96, 71, 97, 97, 70, 90, 95, 88, 98, 115, 53, 86, 81, 92, 79, 83, 140, 150, 120, 152, 100, 105, 81, 90, 52, 60, 70, 53, 100, 78, 110, 95, 71, 70, 75, 72, 102, 150, 88, 108, 120, 180, 145, 130, 150, 68, 80, 58, 96, 70, 145, 110, 145, 130, 110, 105, 100, 98, 180, 170, 190, 149, 78, 88, 75, 89, 63, 83, 67, 78, 97, 110, 110, 48, 66, 52, 70, 60, 110, 140, 139, 105, 95, 85, 88, 100, 90, 105, 85, 110, 120, 145, 165, 139, 140, 68, 95, 97, 75, 95, 105, 85, 97, 103, 125, 115, 133, 71, 68, 115, 85, 88, 90, 110, 130, 129, 138, 135, 155, 142, 125, 150, 71, 65, 80, 80, 77, 125, 71, 90, 70, 70, 65, 69, 90, 115, 115, 90, 76, 60, 70, 65, 90, 88, 90, 90, 78, 90, 75, 92, 75, 65, 105, 65, 48, 48, 67, 67, 67, 0, 67, 62, 132, 100, 88, 0, 72, 84, 84, 92, 110, 84, 58, 64, 60, 67, 65, 62, 68, 63, 65, 65, 74, 0, 75, 75, 100, 74, 80, 76, 116, 120, 110, 105, 88, 85, 88, 88, 88, 85, 84, 90, 92, 0, 74, 68, 68, 63, 70, 88, 75, 70, 67, 67, 67, 110, 85, 92, 112, 96, 84, 90, 86, 52, 84, 79, 82]\n",
      "0      130\n",
      "1      165\n",
      "2      150\n",
      "3      150\n",
      "4      140\n",
      "      ... \n",
      "393     86\n",
      "394     52\n",
      "395     84\n",
      "396     79\n",
      "397     82\n",
      "Name: horsepower, Length: 398, dtype: object\n",
      "count     398\n",
      "unique     94\n",
      "top       150\n",
      "freq       22\n",
      "Name: horsepower, dtype: int64\n",
      "102.89447236180905\n"
     ]
    }
   ],
   "source": [
    "# [1-3] 데이터 확인\n",
    "mpgDF.info()\n",
    "# 형변환 필요(horsepower -> int타입 형변환 필요)\n",
    "list1=list(map(lambda x:int(x) if x.isnumeric() else 0,mpgDF['horsepower']))\n",
    "print(list1)\n",
    "mpgDF.loc[:,'horsepower']=list1\n",
    "# print(mpgDF)\n",
    "# print(mpgDF.info())\n",
    "# print(mpgDF['horsepower'].unique())\n",
    "list2=[type(mpgDF['horsepower'][x]) for x in range(398)]\n",
    "print(mpgDF['horsepower'])\n",
    "mpgDF['horsepower'].dtype\n",
    "print(mpgDF['horsepower'].describe())\n",
    "print(mpgDF['horsepower'].mean())"
   ]
  },
  {
   "cell_type": "code",
   "execution_count": 174,
   "metadata": {},
   "outputs": [
    {
     "name": "stdout",
     "output_type": "stream",
     "text": [
      "[8 4 6 3 5]\n",
      "cylinders\n",
      "4    204\n",
      "8    103\n",
      "6     84\n",
      "3      4\n",
      "5      3\n",
      "Name: count, dtype: int64\n"
     ]
    }
   ],
   "source": [
    "print(f'{mpgDF[\"cylinders\"].unique()}')\n",
    "print(f'{mpgDF[\"cylinders\"].value_counts()}')"
   ]
  },
  {
   "cell_type": "code",
   "execution_count": 175,
   "metadata": {},
   "outputs": [
    {
     "data": {
      "text/plain": [
       "mpg             0\n",
       "cylinders       0\n",
       "displacement    0\n",
       "horsepower      0\n",
       "weight          0\n",
       "acceleration    0\n",
       "model year      0\n",
       "origin          0\n",
       "car name        0\n",
       "dtype: int64"
      ]
     },
     "execution_count": 175,
     "metadata": {},
     "output_type": "execute_result"
    }
   ],
   "source": [
    "# 결측치 체크: 컬럼별 요소/원소가 빈칸 데이터 존재 여부\n",
    "# - isna() / isnull() -> bool\n",
    "mpgDF.isna().sum()"
   ]
  },
  {
   "cell_type": "code",
   "execution_count": 176,
   "metadata": {},
   "outputs": [],
   "source": [
    "# 결측치 처리 방법\n",
    "# - (1) 결측치가 존재하는 행 삭제\n",
    "# mpgDF.dropna() -> na행 삭제\n",
    "# parameter: how='all' 전부 결측치이면 행 삭제\n",
    "# parameter: subset=['col'] col의 결측치가 있으면 행을 삭제\n",
    "# parameter: (thresh=숫자, axis=1) 정상데이터가 숫자 이하를 갖고 있을 시 해당 컬럼 삭제"
   ]
  },
  {
   "cell_type": "code",
   "execution_count": 177,
   "metadata": {},
   "outputs": [],
   "source": [
    "# - (2) 결측치 값 대체 방법\n",
    "# mpgDF.fillna()\n",
    "# bool index 활용하여 원하는 col 또는 index만 추출"
   ]
  },
  {
   "cell_type": "code",
   "execution_count": 180,
   "metadata": {},
   "outputs": [
    {
     "name": "stdout",
     "output_type": "stream",
     "text": [
      "<class 'pandas.core.frame.DataFrame'>\n",
      "RangeIndex: 398 entries, 0 to 397\n",
      "Data columns (total 9 columns):\n",
      " #   Column        Non-Null Count  Dtype  \n",
      "---  ------        --------------  -----  \n",
      " 0   mpg           398 non-null    float64\n",
      " 1   cylinders     398 non-null    int64  \n",
      " 2   displacement  398 non-null    float64\n",
      " 3   horsepower    398 non-null    Int64  \n",
      " 4   weight        398 non-null    int64  \n",
      " 5   acceleration  398 non-null    float64\n",
      " 6   model year    398 non-null    int64  \n",
      " 7   origin        398 non-null    int64  \n",
      " 8   car name      398 non-null    object \n",
      "dtypes: Int64(1), float64(3), int64(4), object(1)\n",
      "memory usage: 28.5+ KB\n"
     ]
    }
   ],
   "source": [
    "# object를 int형변환: astype(int, float, category)\n",
    "mpgDF['horsepower']=mpgDF['horsepower'].astype('Int64')\n",
    "mpgDF.info()"
   ]
  }
 ],
 "metadata": {
  "kernelspec": {
   "display_name": "PY39",
   "language": "python",
   "name": "python3"
  },
  "language_info": {
   "codemirror_mode": {
    "name": "ipython",
    "version": 3
   },
   "file_extension": ".py",
   "mimetype": "text/x-python",
   "name": "python",
   "nbconvert_exporter": "python",
   "pygments_lexer": "ipython3",
   "version": "3.9.21"
  }
 },
 "nbformat": 4,
 "nbformat_minor": 2
}
