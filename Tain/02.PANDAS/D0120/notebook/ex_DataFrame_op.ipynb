{
 "cells": [
  {
   "cell_type": "markdown",
   "metadata": {},
   "source": [
    "[DataFrame 연산]"
   ]
  },
  {
   "cell_type": "markdown",
   "metadata": {},
   "source": [
    "[1] 모듈 로딩 및 데이터 준비 <hr>"
   ]
  },
  {
   "cell_type": "markdown",
   "metadata": {},
   "source": [
    "[2] 데이터 확인 <hr>"
   ]
  },
  {
   "cell_type": "code",
   "execution_count": 2,
   "metadata": {},
   "outputs": [],
   "source": [
    "# [1-1] module 로딩\n",
    "import pandas as pd # 데이터 분석용 모듈\n",
    "import numpy as np # NaN 빈칸 의미 상수 사용 위해서\n",
    "from utils import *\n",
    "# [1-2] data 준비\n",
    "data={'국어':[90,100,60,60], '영어':[100,50,30,10], '수학':[80,60,70,10]}  \n"
   ]
  },
  {
   "cell_type": "code",
   "execution_count": 4,
   "metadata": {},
   "outputs": [
    {
     "data": {
      "text/html": [
       "<div>\n",
       "<style scoped>\n",
       "    .dataframe tbody tr th:only-of-type {\n",
       "        vertical-align: middle;\n",
       "    }\n",
       "\n",
       "    .dataframe tbody tr th {\n",
       "        vertical-align: top;\n",
       "    }\n",
       "\n",
       "    .dataframe thead th {\n",
       "        text-align: right;\n",
       "    }\n",
       "</style>\n",
       "<table border=\"1\" class=\"dataframe\">\n",
       "  <thead>\n",
       "    <tr style=\"text-align: right;\">\n",
       "      <th></th>\n",
       "      <th>국어</th>\n",
       "      <th>영어</th>\n",
       "      <th>수학</th>\n",
       "    </tr>\n",
       "  </thead>\n",
       "  <tbody>\n",
       "    <tr>\n",
       "      <th>강</th>\n",
       "      <td>90</td>\n",
       "      <td>100</td>\n",
       "      <td>80</td>\n",
       "    </tr>\n",
       "    <tr>\n",
       "      <th>허</th>\n",
       "      <td>100</td>\n",
       "      <td>50</td>\n",
       "      <td>60</td>\n",
       "    </tr>\n",
       "    <tr>\n",
       "      <th>박</th>\n",
       "      <td>60</td>\n",
       "      <td>30</td>\n",
       "      <td>70</td>\n",
       "    </tr>\n",
       "    <tr>\n",
       "      <th>이</th>\n",
       "      <td>60</td>\n",
       "      <td>10</td>\n",
       "      <td>10</td>\n",
       "    </tr>\n",
       "  </tbody>\n",
       "</table>\n",
       "</div>"
      ],
      "text/plain": [
       "    국어   영어  수학\n",
       "강   90  100  80\n",
       "허  100   50  60\n",
       "박   60   30  70\n",
       "이   60   10  10"
      ]
     },
     "execution_count": 4,
     "metadata": {},
     "output_type": "execute_result"
    }
   ],
   "source": [
    "DF1=pd.DataFrame(data,index=['강','허','박','이'])\n",
    "DF1"
   ]
  },
  {
   "cell_type": "markdown",
   "metadata": {},
   "source": [
    "[3] DataFrame 다루기"
   ]
  },
  {
   "cell_type": "code",
   "execution_count": 5,
   "metadata": {},
   "outputs": [
    {
     "name": "stdout",
     "output_type": "stream",
     "text": [
      "    국어   영어  수학\n",
      "강  100  110  90\n",
      "허  110   60  70\n",
      "박   70   40  80\n",
      "이   70   20  20\n",
      "   국어  영어  수학\n",
      "강  80  90  70\n",
      "허  90  40  50\n",
      "박  50  20  60\n",
      "이  50   0   0\n",
      "     국어    영어   수학\n",
      "강   900  1000  800\n",
      "허  1000   500  600\n",
      "박   600   300  700\n",
      "이   600   100  100\n",
      "     국어    영어   수학\n",
      "강   9.0  10.0  8.0\n",
      "허  10.0   5.0  6.0\n",
      "박   6.0   3.0  7.0\n",
      "이   6.0   1.0  1.0\n",
      "   국어  영어  수학\n",
      "강   9  10   8\n",
      "허  10   5   6\n",
      "박   6   3   7\n",
      "이   6   1   1\n",
      "   국어  영어  수학\n",
      "강   0   0   0\n",
      "허   0   0   0\n",
      "박   0   0   0\n",
      "이   0   0   0\n",
      "      국어     영어    수학\n",
      "강   8100  10000  6400\n",
      "허  10000   2500  3600\n",
      "박   3600    900  4900\n",
      "이   3600    100   100\n"
     ]
    }
   ],
   "source": [
    "# [3-1] 연산하기\n",
    "## [3-1-1] 산술술연산하기\n",
    "print(DF1+10)\n",
    "print(DF1-10)\n",
    "print(DF1*10)\n",
    "print(DF1/10)\n",
    "print(DF1//10)\n",
    "print(DF1%10)\n",
    "print(DF1**2)"
   ]
  },
  {
   "cell_type": "code",
   "execution_count": 6,
   "metadata": {},
   "outputs": [
    {
     "name": "stdout",
     "output_type": "stream",
     "text": [
      "      국어     영어     수학\n",
      "강  False  False  False\n",
      "허  False  False  False\n",
      "박  False  False  False\n",
      "이  False   True   True\n",
      "     국어     영어     수학\n",
      "강  True   True   True\n",
      "허  True   True   True\n",
      "박  True   True   True\n",
      "이  True  False  False\n"
     ]
    }
   ],
   "source": [
    "# [3-1-2] 비교교연산하기\n",
    "print(DF1==10)\n",
    "print(DF1!=10)\n"
   ]
  },
  {
   "cell_type": "code",
   "execution_count": 12,
   "metadata": {},
   "outputs": [
    {
     "name": "stdout",
     "output_type": "stream",
     "text": [
      "      국어   영어     수학\n",
      "강  140.0  200  150.0\n",
      "허    NaN  140    NaN\n",
      "박  120.0   60  140.0\n",
      "이    NaN   20   20.0\n",
      "     국어  영어    수학\n",
      "강  40.0   0  10.0\n",
      "허   NaN -40   NaN\n",
      "박   0.0   0   0.0\n",
      "이   NaN   0   0.0\n",
      "       국어     영어      수학\n",
      "강  4500.0  10000  5600.0\n",
      "허     NaN   4500     NaN\n",
      "박  3600.0    900  4900.0\n",
      "이     NaN    100   100.0\n",
      "    국어        영어        수학\n",
      "강  1.8  1.000000  1.142857\n",
      "허  NaN  0.555556       NaN\n",
      "박  1.0  1.000000  1.000000\n",
      "이  NaN  1.000000  1.000000\n"
     ]
    }
   ],
   "source": [
    "# [3-1-3] 연산기호-DataFrame\n",
    "##  np.nan: 결측치 or missing value\n",
    "data1={'국어':[50,np.nan,60,np.nan], '영어':[100,90,30,10], '수학':[70,np.nan,70,10]}  \n",
    "DF2=pd.DataFrame(data1,index=['강','허','박','이'])\n",
    "DF2\n",
    "print(DF1+DF2)\n",
    "print(DF1-DF2)\n",
    "print(DF1*DF2)\n",
    "print(DF1/DF2)\n"
   ]
  },
  {
   "cell_type": "code",
   "execution_count": 13,
   "metadata": {},
   "outputs": [
    {
     "name": "stdout",
     "output_type": "stream",
     "text": [
      "      국어   영어     수학\n",
      "강  140.0  200  150.0\n",
      "허  100.0  140   60.0\n",
      "박  120.0   60  140.0\n",
      "이   60.0   20   20.0 \n",
      "\n",
      "      국어  영어    수학\n",
      "강   40.0   0  10.0\n",
      "허  100.0 -40  60.0\n",
      "박    0.0   0   0.0\n",
      "이   60.0   0   0.0 \n",
      "\n",
      "       국어     영어      수학\n",
      "강  4500.0  10000  5600.0\n",
      "허     0.0   4500     0.0\n",
      "박  3600.0    900  4900.0\n",
      "이     0.0    100   100.0 \n",
      "\n",
      "    국어        영어        수학\n",
      "강  1.8  1.000000  1.142857\n",
      "허  inf  0.555556       inf\n",
      "박  1.0  1.000000  1.000000\n",
      "이  inf  1.000000  1.000000 \n",
      "\n"
     ]
    }
   ],
   "source": [
    "# [3-1-4] 연산관련 method: 빈칸 존재 시 빈칸을 포함하여 연산수행하는 방법\n",
    "# - fill_value=any, 빈칸에 채워질 값\n",
    "print(DF1.add(DF2,fill_value=0),'\\n')\n",
    "print(DF1.sub(DF2,fill_value=0),'\\n')\n",
    "print(DF1.mul(DF2,fill_value=0),'\\n')\n",
    "print(DF1.div(DF2,fill_value=0),'\\n')"
   ]
  }
 ],
 "metadata": {
  "kernelspec": {
   "display_name": "PY39",
   "language": "python",
   "name": "python3"
  },
  "language_info": {
   "codemirror_mode": {
    "name": "ipython",
    "version": 3
   },
   "file_extension": ".py",
   "mimetype": "text/x-python",
   "name": "python",
   "nbconvert_exporter": "python",
   "pygments_lexer": "ipython3",
   "version": "3.9.21"
  }
 },
 "nbformat": 4,
 "nbformat_minor": 2
}
