{
 "cells": [
  {
   "cell_type": "code",
   "execution_count": null,
   "metadata": {},
   "outputs": [],
   "source": [
    "import pandas as pd\n",
    "pd.DataFrame.set_index() # 컬럼을 인덱스로 (n개를 인덱스화 가능)\n",
    "pd.DataFrame.rename() # 인덱스 또는 칼럼의 이름을 변경가능, dict타입\n",
    "pd.DataFrame.reset_index() # 인덱스 reset숫자 타입으로 변경, 기존 인덱스 컬럼으로 추가\n",
    "                           # 컬럼으로 추가 안할수도 drop=Ture\n",
    "                           # 컬럼으로 들어온 인덱스명을 변경 가능\n",
    "                           # 컬럼으로 들어오는 레벨을 정할수 있으며 그 컬럼명을 설정가능\n",
    "pd.DataFrame.loc[]         # Series/원소 단위로 변경 및 읽기 가능\n",
    "pd.DataFrame.reindex()     # 컬럼 또는 인덱스를 추가 및 변경 가능\n",
    "pd.DataFrame.T\n",
    "pd.DataFrame.transpose()   # 컬럼과 인덱스 위치를 변경경"
   ]
  }
 ],
 "metadata": {
  "kernelspec": {
   "display_name": "PY39",
   "language": "python",
   "name": "python3"
  },
  "language_info": {
   "codemirror_mode": {
    "name": "ipython",
    "version": 3
   },
   "file_extension": ".py",
   "mimetype": "text/x-python",
   "name": "python",
   "nbconvert_exporter": "python",
   "pygments_lexer": "ipython3",
   "version": "3.9.21"
  }
 },
 "nbformat": 4,
 "nbformat_minor": 2
}
