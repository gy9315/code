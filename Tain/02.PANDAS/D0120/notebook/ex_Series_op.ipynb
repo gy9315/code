{
 "cells": [
  {
   "cell_type": "markdown",
   "metadata": {},
   "source": [
    "[Series 연산]"
   ]
  },
  {
   "cell_type": "markdown",
   "metadata": {},
   "source": [
    "[1] 모듈 로딩 및 데이터 준비 <hr>"
   ]
  },
  {
   "cell_type": "code",
   "execution_count": 7,
   "metadata": {},
   "outputs": [],
   "source": [
    "# [1-1] module 로딩\n",
    "import pandas as pd # 데이터 분석용 모듈\n",
    "import numpy as np # NaN 빈칸 의미 상수 사용 위해서\n",
    "from utils import *\n"
   ]
  },
  {
   "cell_type": "code",
   "execution_count": 8,
   "metadata": {},
   "outputs": [],
   "source": [
    "# [1-2] data 준비\n",
    "data={'국어':90, '영어':100, '수학':80}  "
   ]
  },
  {
   "cell_type": "markdown",
   "metadata": {},
   "source": [
    "[2] 데이터 확인 <hr>"
   ]
  },
  {
   "cell_type": "code",
   "execution_count": 12,
   "metadata": {},
   "outputs": [
    {
     "name": "stdout",
     "output_type": "stream",
     "text": [
      "국어     90\n",
      "영어    100\n",
      "수학     80\n",
      "dtype: int64\n",
      "Index(['국어', '영어', '수학'], dtype='object')\n",
      "1\n",
      "[ 90 100  80]\n",
      "(3,)\n",
      "int64\n"
     ]
    }
   ],
   "source": [
    "# Series 객체 생성\n",
    "sr1=pd.Series(data)\n",
    "print(sr1)\n",
    "print(sr1.index)\n",
    "print(sr1.ndim)\n",
    "print(sr1.values)\n",
    "print(sr1.shape)\n",
    "print(sr1.dtype)"
   ]
  },
  {
   "cell_type": "code",
   "execution_count": 14,
   "metadata": {},
   "outputs": [
    {
     "name": "stdout",
     "output_type": "stream",
     "text": [
      "<class 'pandas.core.series.Series'>\n",
      "Index: 3 entries, 국어 to 수학\n",
      "Series name: None\n",
      "Non-Null Count  Dtype\n",
      "--------------  -----\n",
      "3 non-null      int64\n",
      "dtypes: int64(1)\n",
      "memory usage: 156.0+ bytes\n"
     ]
    },
    {
     "data": {
      "text/plain": [
       "count      3.0\n",
       "mean      90.0\n",
       "std       10.0\n",
       "min       80.0\n",
       "25%       85.0\n",
       "50%       90.0\n",
       "75%       95.0\n",
       "max      100.0\n",
       "dtype: float64"
      ]
     },
     "execution_count": 14,
     "metadata": {},
     "output_type": "execute_result"
    }
   ],
   "source": [
    "sr1.info()\n",
    "sr1.describe()"
   ]
  },
  {
   "cell_type": "markdown",
   "metadata": {},
   "source": [
    "[3] Series 다루기 <hr> "
   ]
  },
  {
   "cell_type": "code",
   "execution_count": 17,
   "metadata": {},
   "outputs": [
    {
     "data": {
      "text/plain": [
       "영어    100\n",
       "국어     90\n",
       "수학     80\n",
       "dtype: int64"
      ]
     },
     "execution_count": 17,
     "metadata": {},
     "output_type": "execute_result"
    }
   ],
   "source": [
    "# [3-1] 정렬하기\n",
    "sr1.sort_values(ascending=False)\n"
   ]
  },
  {
   "cell_type": "code",
   "execution_count": 22,
   "metadata": {},
   "outputs": [
    {
     "name": "stdout",
     "output_type": "stream",
     "text": [
      "국어    100\n",
      "영어    110\n",
      "수학     90\n",
      "dtype: int64\n",
      "국어    80\n",
      "영어    90\n",
      "수학    70\n",
      "dtype: int64\n",
      "국어     900\n",
      "영어    1000\n",
      "수학     800\n",
      "dtype: int64\n",
      "국어     9.0\n",
      "영어    10.0\n",
      "수학     8.0\n",
      "dtype: float64\n",
      "국어     9\n",
      "영어    10\n",
      "수학     8\n",
      "dtype: int64\n",
      "국어    0\n",
      "영어    0\n",
      "수학    0\n",
      "dtype: int64\n",
      "국어     8100\n",
      "영어    10000\n",
      "수학     6400\n",
      "dtype: int64\n"
     ]
    }
   ],
   "source": [
    "# [3-2] 연산하기\n",
    "## [3-2-1] 산술술연산하기\n",
    "print(sr1+10)\n",
    "print(sr1-10)\n",
    "print(sr1*10)\n",
    "print(sr1/10)\n",
    "print(sr1//10)\n",
    "print(sr1%10)\n",
    "print(sr1**2)"
   ]
  },
  {
   "cell_type": "code",
   "execution_count": 27,
   "metadata": {},
   "outputs": [
    {
     "name": "stdout",
     "output_type": "stream",
     "text": [
      "국어    False\n",
      "영어    False\n",
      "수학    False\n",
      "dtype: bool\n",
      "국어    True\n",
      "영어    True\n",
      "수학    True\n",
      "dtype: bool\n",
      "국어    True\n",
      "영어    True\n",
      "수학    True\n",
      "dtype: bool\n",
      "국어    False\n",
      "영어    False\n",
      "수학    False\n",
      "dtype: bool\n"
     ]
    }
   ],
   "source": [
    "## [3-2-2] 비교연산하기\n",
    "print(sr1==10)\n",
    "print(sr1!=10)\n",
    "print(sr1>=10)\n",
    "print(sr1<=10)"
   ]
  },
  {
   "cell_type": "code",
   "execution_count": 29,
   "metadata": {},
   "outputs": [
    {
     "name": "stdout",
     "output_type": "stream",
     "text": [
      "국어     97\n",
      "영어    177\n",
      "수학    857\n",
      "dtype: int64\n",
      "국어     83\n",
      "영어     23\n",
      "수학   -697\n",
      "dtype: int64\n",
      "국어      630\n",
      "영어     7700\n",
      "수학    62160\n",
      "dtype: int64\n",
      "국어    12.857143\n",
      "영어     1.298701\n",
      "수학     0.102960\n",
      "dtype: float64\n",
      "국어    False\n",
      "영어    False\n",
      "수학    False\n",
      "dtype: bool\n"
     ]
    }
   ],
   "source": [
    "## [3-2-3]산술연산하기-Series\n",
    "sr2=pd.Series([7,77,777],index=['국어','영어','수학'])\n",
    "print(sr1+sr2)\n",
    "print(sr1-sr2)\n",
    "print(sr1*sr2)\n",
    "print(sr1/sr2)"
   ]
  },
  {
   "cell_type": "code",
   "execution_count": 36,
   "metadata": {},
   "outputs": [
    {
     "name": "stdout",
     "output_type": "stream",
     "text": [
      "국어     95.0\n",
      "영어      NaN\n",
      "수학    857.0\n",
      "dtype: float64\n",
      "국어     85.0\n",
      "영어      NaN\n",
      "수학   -697.0\n",
      "dtype: float64\n",
      "국어      450.0\n",
      "영어        NaN\n",
      "수학    62160.0\n",
      "dtype: float64\n",
      "국어    18.00000\n",
      "영어         NaN\n",
      "수학     0.10296\n",
      "dtype: float64\n"
     ]
    }
   ],
   "source": [
    "## [3-2-3]산술연산하기-Series\n",
    "sr2=pd.Series([5,np.nan,777],index=['국어','영어','수학'])\n",
    "print(sr1+sr2)\n",
    "print(sr1-sr2)\n",
    "print(sr1*sr2)\n",
    "print(sr1/sr2)"
   ]
  },
  {
   "cell_type": "code",
   "execution_count": 38,
   "metadata": {},
   "outputs": [
    {
     "name": "stdout",
     "output_type": "stream",
     "text": [
      "국어     95.0\n",
      "영어    100.0\n",
      "수학    857.0\n",
      "dtype: float64 \n",
      "\n",
      "국어     85.0\n",
      "영어    100.0\n",
      "수학   -697.0\n",
      "dtype: float64 \n",
      "\n",
      "국어      450.0\n",
      "영어        0.0\n",
      "수학    62160.0\n",
      "dtype: float64 \n",
      "\n",
      "국어    18.00000\n",
      "영어         inf\n",
      "수학     0.10296\n",
      "dtype: float64 \n",
      "\n"
     ]
    }
   ],
   "source": [
    "## [3-2-4] 연산관련 method: 빈칸 존재 시 빈칸을 포함하여 연산수행하는 방법\n",
    "# - fill_value=any, 빈칸에 채워질 값\n",
    "print(sr1.add(sr2,fill_value=0),'\\n')\n",
    "print(sr1.sub(sr2,fill_value=0),'\\n')\n",
    "print(sr1.mul(sr2,fill_value=0),'\\n')\n",
    "print(sr1.div(sr2,fill_value=0),'\\n')\n",
    "\n",
    "\n",
    "\n"
   ]
  }
 ],
 "metadata": {
  "kernelspec": {
   "display_name": "PY39",
   "language": "python",
   "name": "python3"
  },
  "language_info": {
   "codemirror_mode": {
    "name": "ipython",
    "version": 3
   },
   "file_extension": ".py",
   "mimetype": "text/x-python",
   "name": "python",
   "nbconvert_exporter": "python",
   "pygments_lexer": "ipython3",
   "version": "3.9.21"
  }
 },
 "nbformat": 4,
 "nbformat_minor": 2
}
