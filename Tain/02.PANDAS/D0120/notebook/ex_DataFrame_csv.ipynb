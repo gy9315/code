{
 "cells": [
  {
   "cell_type": "markdown",
   "metadata": {},
   "source": [
    "[CSV => DataFrame 변환처리]"
   ]
  },
  {
   "cell_type": "markdown",
   "metadata": {},
   "source": [
    "[1] 모듈로딩 및 데이터 준비 <hr>"
   ]
  },
  {
   "cell_type": "code",
   "execution_count": 139,
   "metadata": {},
   "outputs": [],
   "source": [
    "## [1-1] 모듈로딩\n",
    "import pandas as pd #  데이터파일 분석 모듈\n",
    "import os # python  기본 모듈, 시스템과 파일과 폴더와 관련 모듈\n"
   ]
  },
  {
   "cell_type": "code",
   "execution_count": 140,
   "metadata": {},
   "outputs": [],
   "source": [
    "# 함수기능: 데이터프레임 속성 출력\n",
    "# 함수이름: print_attribut()\n",
    "# 매개변수: x(DF type)\n",
    "\n",
    "def print_attribute(x:pd.DataFrame,xname:str):\n",
    "    print(f'------[{xname}]-------')\n",
    "    print(f'dtype: {x.dtypes}')    \n",
    "    print(f'col: {x.columns}')\n",
    "    print(f'idx: {x.index}')\n",
    "    print(f'dim: {x.ndim}')\n",
    "    print(f'shape: {x.shape}')\n",
    "    print(f'values: \\n{x.values}')"
   ]
  },
  {
   "cell_type": "code",
   "execution_count": 141,
   "metadata": {},
   "outputs": [],
   "source": [
    "## [1-2] 데이터 준비\n",
    "file1='../DATA/member.csv'\n",
    "file3='../DATA/member3.csv'\n"
   ]
  },
  {
   "cell_type": "code",
   "execution_count": 142,
   "metadata": {},
   "outputs": [
    {
     "name": "stdout",
     "output_type": "stream",
     "text": [
      "   번호   이름  나이  지역\n",
      "0   1  홍길동  20  대구\n",
      "1   2  이나영  12  서울\n",
      "2   3  최희진  22  마산\n",
      "3   4  마징가  31  부산\n",
      "4   5  박지민  17  대구\n",
      "5   6  김나나  25  서울\n",
      "6   7  박서희  33  광주\n",
      "   번호   이름  나이  지역\n",
      "0   1  홍길동  20  대구\n",
      "1   2  이나영  12  서울\n",
      "2   3  최희진  22  마산\n",
      "3   4  마징가  31  부산\n",
      "4   5  박지민  17  대구\n",
      "5   6  김나나  25  서울\n",
      "6   7  박서희  33  광주\n"
     ]
    }
   ],
   "source": [
    "## [2-1] 데이터 로딩\n",
    "f1DF=pd.read_csv(file1)\n",
    "f2DF=pd.read_csv(file3,sep=';',header=None)\n",
    "f2DF.columns=f1DF.columns\n",
    "print(f1DF)\n",
    "print(f2DF,sep=';')"
   ]
  },
  {
   "cell_type": "code",
   "execution_count": 143,
   "metadata": {},
   "outputs": [
    {
     "name": "stdout",
     "output_type": "stream",
     "text": [
      "<class 'pandas.core.frame.DataFrame'>\n",
      "RangeIndex: 7 entries, 0 to 6\n",
      "Data columns (total 4 columns):\n",
      " #   Column  Non-Null Count  Dtype \n",
      "---  ------  --------------  ----- \n",
      " 0   번호      7 non-null      int64 \n",
      " 1   이름      7 non-null      object\n",
      " 2   나이      7 non-null      int64 \n",
      " 3   지역      7 non-null      object\n",
      "dtypes: int64(2), object(2)\n",
      "memory usage: 352.0+ bytes\n"
     ]
    }
   ],
   "source": [
    "# [2-2] 데이터 확인\n",
    "## info(), head()/tail(), describe()\n",
    "# - 요약정보\n",
    "f1DF.info()"
   ]
  },
  {
   "cell_type": "code",
   "execution_count": 144,
   "metadata": {},
   "outputs": [
    {
     "name": "stdout",
     "output_type": "stream",
     "text": [
      "   번호   이름  나이  지역\n",
      "0   1  홍길동  20  대구\n",
      "1   2  이나영  12  서울\n",
      "   번호   이름  나이  지역\n",
      "5   6  김나나  25  서울\n",
      "6   7  박서희  33  광주\n"
     ]
    }
   ],
   "source": [
    "# - 실제데이터\n",
    "print(f1DF.head(2))\n",
    "print(f1DF.tail(2))\n"
   ]
  },
  {
   "cell_type": "code",
   "execution_count": 145,
   "metadata": {},
   "outputs": [
    {
     "data": {
      "text/html": [
       "<div>\n",
       "<style scoped>\n",
       "    .dataframe tbody tr th:only-of-type {\n",
       "        vertical-align: middle;\n",
       "    }\n",
       "\n",
       "    .dataframe tbody tr th {\n",
       "        vertical-align: top;\n",
       "    }\n",
       "\n",
       "    .dataframe thead th {\n",
       "        text-align: right;\n",
       "    }\n",
       "</style>\n",
       "<table border=\"1\" class=\"dataframe\">\n",
       "  <thead>\n",
       "    <tr style=\"text-align: right;\">\n",
       "      <th></th>\n",
       "      <th>번호</th>\n",
       "      <th>이름</th>\n",
       "      <th>나이</th>\n",
       "      <th>지역</th>\n",
       "    </tr>\n",
       "  </thead>\n",
       "  <tbody>\n",
       "    <tr>\n",
       "      <th>count</th>\n",
       "      <td>7.000000</td>\n",
       "      <td>7</td>\n",
       "      <td>7.000000</td>\n",
       "      <td>7</td>\n",
       "    </tr>\n",
       "    <tr>\n",
       "      <th>unique</th>\n",
       "      <td>NaN</td>\n",
       "      <td>7</td>\n",
       "      <td>NaN</td>\n",
       "      <td>5</td>\n",
       "    </tr>\n",
       "    <tr>\n",
       "      <th>top</th>\n",
       "      <td>NaN</td>\n",
       "      <td>홍길동</td>\n",
       "      <td>NaN</td>\n",
       "      <td>대구</td>\n",
       "    </tr>\n",
       "    <tr>\n",
       "      <th>freq</th>\n",
       "      <td>NaN</td>\n",
       "      <td>1</td>\n",
       "      <td>NaN</td>\n",
       "      <td>2</td>\n",
       "    </tr>\n",
       "    <tr>\n",
       "      <th>mean</th>\n",
       "      <td>4.000000</td>\n",
       "      <td>NaN</td>\n",
       "      <td>22.857143</td>\n",
       "      <td>NaN</td>\n",
       "    </tr>\n",
       "    <tr>\n",
       "      <th>std</th>\n",
       "      <td>2.160247</td>\n",
       "      <td>NaN</td>\n",
       "      <td>7.470577</td>\n",
       "      <td>NaN</td>\n",
       "    </tr>\n",
       "    <tr>\n",
       "      <th>min</th>\n",
       "      <td>1.000000</td>\n",
       "      <td>NaN</td>\n",
       "      <td>12.000000</td>\n",
       "      <td>NaN</td>\n",
       "    </tr>\n",
       "    <tr>\n",
       "      <th>25%</th>\n",
       "      <td>2.500000</td>\n",
       "      <td>NaN</td>\n",
       "      <td>18.500000</td>\n",
       "      <td>NaN</td>\n",
       "    </tr>\n",
       "    <tr>\n",
       "      <th>50%</th>\n",
       "      <td>4.000000</td>\n",
       "      <td>NaN</td>\n",
       "      <td>22.000000</td>\n",
       "      <td>NaN</td>\n",
       "    </tr>\n",
       "    <tr>\n",
       "      <th>75%</th>\n",
       "      <td>5.500000</td>\n",
       "      <td>NaN</td>\n",
       "      <td>28.000000</td>\n",
       "      <td>NaN</td>\n",
       "    </tr>\n",
       "    <tr>\n",
       "      <th>max</th>\n",
       "      <td>7.000000</td>\n",
       "      <td>NaN</td>\n",
       "      <td>33.000000</td>\n",
       "      <td>NaN</td>\n",
       "    </tr>\n",
       "  </tbody>\n",
       "</table>\n",
       "</div>"
      ],
      "text/plain": [
       "              번호   이름         나이   지역\n",
       "count   7.000000    7   7.000000    7\n",
       "unique       NaN    7        NaN    5\n",
       "top          NaN  홍길동        NaN   대구\n",
       "freq         NaN    1        NaN    2\n",
       "mean    4.000000  NaN  22.857143  NaN\n",
       "std     2.160247  NaN   7.470577  NaN\n",
       "min     1.000000  NaN  12.000000  NaN\n",
       "25%     2.500000  NaN  18.500000  NaN\n",
       "50%     4.000000  NaN  22.000000  NaN\n",
       "75%     5.500000  NaN  28.000000  NaN\n",
       "max     7.000000  NaN  33.000000  NaN"
      ]
     },
     "execution_count": 145,
     "metadata": {},
     "output_type": "execute_result"
    }
   ],
   "source": [
    "# - col별 통계치\n",
    "f1DF.describe(include='all')"
   ]
  },
  {
   "cell_type": "code",
   "execution_count": 146,
   "metadata": {},
   "outputs": [
    {
     "name": "stdout",
     "output_type": "stream",
     "text": [
      "------[f1DF]-------\n",
      "dtype: 번호     int64\n",
      "이름    object\n",
      "나이     int64\n",
      "지역    object\n",
      "dtype: object\n",
      "col: Index(['번호', '이름', '나이', '지역'], dtype='object')\n",
      "idx: RangeIndex(start=0, stop=7, step=1)\n",
      "dim: 2\n",
      "shape: (7, 4)\n",
      "values: \n",
      "[[1 '홍길동' 20 '대구']\n",
      " [2 '이나영' 12 '서울']\n",
      " [3 '최희진' 22 '마산']\n",
      " [4 '마징가' 31 '부산']\n",
      " [5 '박지민' 17 '대구']\n",
      " [6 '김나나' 25 '서울']\n",
      " [7 '박서희' 33 '광주']]\n"
     ]
    }
   ],
   "source": [
    "# - 데이터 출력\n",
    "## - DataFrame의 속성\n",
    "print_attribute(f1DF,'f1DF')"
   ]
  },
  {
   "cell_type": "code",
   "execution_count": 147,
   "metadata": {},
   "outputs": [
    {
     "name": "stdout",
     "output_type": "stream",
     "text": [
      "   번호   이름  나이  지역\n",
      "0   1  홍길동  20  대구\n",
      "1   2  이나영  12  서울\n",
      "2   3  최희진  22  마산\n",
      "3   4  마징가  31  부산\n",
      "4   5  박지민  17  대구\n",
      "5   6  김나나  25  서울\n",
      "6   7  박서희  33  광주\n",
      "\n",
      "   번호   이름  나이  지역\n",
      "0   1  홍길동  20  대구\n"
     ]
    }
   ],
   "source": [
    "# header(): 몇번째까지를 header로 설정할건지(col) \n",
    "f1DF1=pd.read_csv(file1,header=[0])\n",
    "print(f1DF1)\n",
    "print()\n",
    "print(f1DF1.head(1))"
   ]
  },
  {
   "cell_type": "code",
   "execution_count": 148,
   "metadata": {},
   "outputs": [
    {
     "name": "stdout",
     "output_type": "stream",
     "text": [
      "   번호   이름  나이  지역\n",
      "0   1  홍길동  20  대구\n",
      "1   2  이나영  12  서울\n",
      "2   3  최희진  22  마산\n",
      "3   4  마징가  31  부산\n",
      "4   5  박지민  17  대구\n",
      "5   6  김나나  25  서울\n",
      "6   7  박서희  33  광주\n"
     ]
    }
   ],
   "source": [
    "f1DF1=pd.read_csv(file1,index_col=None,header=[0])\n",
    "print(f1DF1)\n"
   ]
  },
  {
   "cell_type": "code",
   "execution_count": 149,
   "metadata": {},
   "outputs": [
    {
     "name": "stdout",
     "output_type": "stream",
     "text": [
      "------[f2DF]-------\n",
      "dtype: 번호     int64\n",
      "이름    object\n",
      "나이     int64\n",
      "지역    object\n",
      "dtype: object\n",
      "col: Index(['번호', '이름', '나이', '지역'], dtype='object')\n",
      "idx: RangeIndex(start=0, stop=7, step=1)\n",
      "dim: 2\n",
      "shape: (7, 4)\n",
      "values: \n",
      "[[1 '홍길동' 20 '대구']\n",
      " [2 '이나영' 12 '서울']\n",
      " [3 '최희진' 22 '마산']\n",
      " [4 '마징가' 31 '부산']\n",
      " [5 '박지민' 17 '대구']\n",
      " [6 '김나나' 25 '서울']\n",
      " [7 '박서희' 33 '광주']]\n"
     ]
    }
   ],
   "source": [
    "print_attribute(f2DF,'f2DF')"
   ]
  }
 ],
 "metadata": {
  "kernelspec": {
   "display_name": "PY39",
   "language": "python",
   "name": "python3"
  },
  "language_info": {
   "codemirror_mode": {
    "name": "ipython",
    "version": 3
   },
   "file_extension": ".py",
   "mimetype": "text/x-python",
   "name": "python",
   "nbconvert_exporter": "python",
   "pygments_lexer": "ipython3",
   "version": "3.9.21"
  }
 },
 "nbformat": 4,
 "nbformat_minor": 2
}
