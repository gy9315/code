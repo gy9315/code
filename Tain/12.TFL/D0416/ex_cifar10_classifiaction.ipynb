{
 "cells": [
  {
   "cell_type": "code",
   "execution_count": 1,
   "id": "55fac8da",
   "metadata": {},
   "outputs": [],
   "source": [
    "import torch\n",
    "import torch.nn as nn\n",
    "import torch.nn.functional as F\n",
    "import torchvision.transforms as transforms\n",
    "from torchvision.datasets import CIFAR10\n",
    "from torch.utils.data import DataLoader\n",
    "import numpy as np\n",
    "import matplotlib.pyplot as plt\n",
    "import koreanize_matplotlib\n",
    "import os"
   ]
  },
  {
   "cell_type": "code",
   "execution_count": 2,
   "id": "1adf9caa",
   "metadata": {},
   "outputs": [
    {
     "name": "stdout",
     "output_type": "stream",
     "text": [
      "already image\n"
     ]
    }
   ],
   "source": [
    "ROOT='../DATA/image/'\n",
    "if not os.path.exists(ROOT):\n",
    "    os.makedirs(ROOT)\n",
    "else: print('already image')"
   ]
  },
  {
   "cell_type": "code",
   "execution_count": null,
   "id": "f55e3db5",
   "metadata": {},
   "outputs": [],
   "source": [
    "transform=transforms.Compose([transforms.Resize((256,256),interpolation=transforms.InterpolationMode.BILINEAR),transforms.ToTensor(),transforms.Normalize((0.485, 0.456, 0.406),(0.229, 0.224, 0.225))])\n",
    "train_dataset=CIFAR10(root=ROOT,transform=transform)\n",
    "test_dataset=CIFAR10(root=ROOT,train=False,transform=transform)\n",
    "train_dataloader=DataLoader(train_dataset,batch_size=1000,drop_last=True)\n",
    "test_dataloader=DataLoader(test_dataset,batch_size=1000,drop_last=True)"
   ]
  },
  {
   "cell_type": "code",
   "execution_count": null,
   "id": "279cdf57",
   "metadata": {},
   "outputs": [],
   "source": [
    "class CNN(nn.Module):\n",
    "    def __init__(self):\n",
    "        super().__init__()\n",
    "        self.con1=nn.Sequential(nn.Conv2d(3,32,3,1,1),\n",
    "        nn.BatchNorm2d(32),\n",
    "        nn.MaxPool2d(2,2))\n",
    "        self.con2=nn.Sequential(\n",
    "        nn.Conv2d(32,32,3,1),\n",
    "        nn.BatchNorm2d(32),\n",
    "        nn.MaxPool2d(2,2))\n",
    "        self.fc=nn.Sequential(nn.Linear(32*63*63,256),\n",
    "        nn.BatchNorm1d(256),\n",
    "        nn.ReLU(),\n",
    "        nn.Dropout(0.3),\n",
    "        nn.Linear(256,64),\n",
    "        nn.BatchNorm1d(64),\n",
    "        nn.ReLU(),\n",
    "        nn.Linear(64,10)\n",
    "        )\n",
    "    def forward(self,data):\n",
    "        out=self.con1(data)\n",
    "        out=self.con2(out)\n",
    "        out=out.view(out.size(0),-1)\n",
    "        return self.fc(out)"
   ]
  },
  {
   "cell_type": "code",
   "execution_count": 31,
   "id": "4767c9c3",
   "metadata": {},
   "outputs": [],
   "source": [
    "from torchmetrics.classification import Accuracy\n",
    "import torch.optim as optim\n",
    "from torch.optim.lr_scheduler import ReduceLROnPlateau\n",
    "DEVICE='cuda' if torch.cuda.is_available() else 'cpu'"
   ]
  },
  {
   "cell_type": "code",
   "execution_count": null,
   "id": "5e7853ec",
   "metadata": {},
   "outputs": [
    {
     "name": "stdout",
     "output_type": "stream",
     "text": [
      "epoch: 0\n"
     ]
    },
    {
     "ename": "TypeError",
     "evalue": "sum(): argument 'input' (position 1) must be Tensor, not list",
     "output_type": "error",
     "traceback": [
      "\u001b[1;31m---------------------------------------------------------------------------\u001b[0m",
      "\u001b[1;31mTypeError\u001b[0m                                 Traceback (most recent call last)",
      "Cell \u001b[1;32mIn[54], line 24\u001b[0m\n\u001b[0;32m     22\u001b[0m accur\u001b[38;5;241m=\u001b[39maccuracy(torch\u001b[38;5;241m.\u001b[39mLongTensor(pred_list),torch\u001b[38;5;241m.\u001b[39mLongTensor(fact_list))\n\u001b[0;32m     23\u001b[0m \u001b[38;5;28mprint\u001b[39m(\u001b[38;5;124mf\u001b[39m\u001b[38;5;124m'\u001b[39m\u001b[38;5;124mepoch: \u001b[39m\u001b[38;5;132;01m{\u001b[39;00mepoch\u001b[38;5;132;01m}\u001b[39;00m\u001b[38;5;124m'\u001b[39m)\n\u001b[1;32m---> 24\u001b[0m \u001b[38;5;28mprint\u001b[39m(\u001b[38;5;124mf\u001b[39m\u001b[38;5;124m'\u001b[39m\u001b[38;5;124m[train] 정확도: \u001b[39m\u001b[38;5;132;01m{\u001b[39;00maccur\u001b[38;5;132;01m}\u001b[39;00m\u001b[38;5;124m, loss: \u001b[39m\u001b[38;5;132;01m{\u001b[39;00mtorch\u001b[38;5;241m.\u001b[39msum(loss_list)\u001b[38;5;241m.\u001b[39mitem()\u001b[38;5;241m/\u001b[39m\u001b[38;5;28mlen\u001b[39m(loss_list)\u001b[38;5;132;01m}\u001b[39;00m\u001b[38;5;124m'\u001b[39m)  \n\u001b[0;32m     25\u001b[0m \u001b[38;5;28;01mwith\u001b[39;00m torch\u001b[38;5;241m.\u001b[39mno_grad():\n\u001b[0;32m     26\u001b[0m     model\u001b[38;5;241m.\u001b[39meval()\n",
      "\u001b[1;31mTypeError\u001b[0m: sum(): argument 'input' (position 1) must be Tensor, not list"
     ]
    }
   ],
   "source": [
    "model=CNN()\n",
    "model.to(DEVICE)\n",
    "optimizer=optim.Adam(model.parameters(),lr=0.0001)\n",
    "LR=ReduceLROnPlateau(optimizer=optimizer,mode='min',patience=10)\n",
    "accuracy=Accuracy(task='multiclass',num_classes=10)\n",
    "for epoch in range(100):\n",
    "    model.train()\n",
    "    loss_list=[]\n",
    "    pred_list=[]\n",
    "    fact_list=[]\n",
    "    for x,y in train_dataloader:\n",
    "        x,y=x.to(DEVICE),torch.LongTensor(y).to(DEVICE)\n",
    "        optimizer.zero_grad()\n",
    "        output=model(x)\n",
    "        loss=F.cross_entropy(output,y)\n",
    "        loss.backward()\n",
    "        optimizer.step()\n",
    "        loss_list.append(loss.item())       \n",
    "        pred=torch.argmax(output,dim=1).tolist()\n",
    "        pred_list.extend(pred)\n",
    "        fact_list.extend(y.tolist())\n",
    "    accur=accuracy(torch.LongTensor(pred_list),torch.LongTensor(fact_list))\n",
    "    print(f'epoch: {epoch}')\n",
    "    print(f'[train] 정확도: {accur}, loss: {sum(loss_list)/len(loss_list)}')  \n",
    "    with torch.no_grad():\n",
    "        model.eval()\n",
    "        loss_list=[]\n",
    "        pred_list=[]\n",
    "        fact_list=[]\n",
    "        for x,y in test_dataloader:\n",
    "            x,y=x.to(DEVICE),torch.LongTensor(y).to(DEVICE)\n",
    "            output=model(x)\n",
    "            loss=F.cross_entropy(output,y)\n",
    "            loss_list.append(loss.item())       \n",
    "            pred=torch.argmax(output,dim=1).tolist()\n",
    "            pred_list.extend(pred)\n",
    "            fact_list.extend(y.tolist())\n",
    "        accur=accuracy(torch.LongTensor(pred_list),torch.LongTensor(fact_list))\n",
    "        print(f'[test] 정확도: {accur}, loss: {sum(loss_list)/len(loss_list)}') \n",
    "        total_loss=(sum(loss_list)/len(loss_list))\n",
    "        LR.step(total_loss)\n",
    "        "
   ]
  }
 ],
 "metadata": {
  "kernelspec": {
   "display_name": "NLP",
   "language": "python",
   "name": "python3"
  },
  "language_info": {
   "codemirror_mode": {
    "name": "ipython",
    "version": 3
   },
   "file_extension": ".py",
   "mimetype": "text/x-python",
   "name": "python",
   "nbconvert_exporter": "python",
   "pygments_lexer": "ipython3",
   "version": "3.8.20"
  }
 },
 "nbformat": 4,
 "nbformat_minor": 5
}
