{
 "cells": [
  {
   "cell_type": "markdown",
   "metadata": {},
   "source": [
    "정규표현식 객체 사용 <hr>"
   ]
  },
  {
   "cell_type": "code",
   "execution_count": 15,
   "metadata": {},
   "outputs": [
    {
     "name": "stdout",
     "output_type": "stream",
     "text": [
      "None\n",
      "<re.Match object; span=(7, 12), match='apple'>\n"
     ]
    },
    {
     "data": {
      "text/plain": [
       "'python'"
      ]
     },
     "execution_count": 15,
     "metadata": {},
     "output_type": "execute_result"
    }
   ],
   "source": [
    "import re\n",
    "m=re.match('[a-z]+','Pyhton')\n",
    "print(m)\n",
    "# 일치하지 않음 -> none\n",
    "print(re.search('apple','I like apple!'))\n",
    "p=re.compile('[a-z]+')\n",
    "m=p.match('python')\n",
    "m.group()"
   ]
  },
  {
   "cell_type": "code",
   "execution_count": 17,
   "metadata": {},
   "outputs": [
    {
     "name": "stdout",
     "output_type": "stream",
     "text": [
      "<re.Match object; span=(0, 5), match='regex'>\n",
      "<re.Match object; span=(0, 11), match='regexpython'>\n",
      "<re.Match object; span=(0, 10), match='regexpytho'>\n",
      "None\n",
      "<re.Match object; span=(0, 5), match='regex'>\n",
      "<re.Match object; span=(0, 11), match='regexpython'>\n"
     ]
    }
   ],
   "source": [
    "p=re.compile('[a-z]+')\n",
    "m=re.compile('[a-z]+$')\n",
    "print(p.match('regex python'))\n",
    "print(p.match('regexpython'))\n",
    "print(p.match('regexpythoN'))\n",
    "print(m.match('regexpythoN'))\n",
    "print(p.match('regexPython'))\n",
    "print(m.match('regexpython'))"
   ]
  },
  {
   "cell_type": "code",
   "execution_count": 18,
   "metadata": {},
   "outputs": [
    {
     "name": "stdout",
     "output_type": "stream",
     "text": [
      "['life', 'is', 'too', 'short', 'egular', 'expression', 'test']\n",
      "<re.Match object; span=(2, 6), match='like'>\n",
      "['like', 'apple']\n"
     ]
    }
   ],
   "source": [
    "# findall()\n",
    "# 일치하는 모든 문자열을 리스트로 리턴\n",
    "print(p.findall('life is too short. Regular expression test'))\n",
    "print(p.search('I like apple 123'))\n",
    "print(p.findall('I like apple 123'))"
   ]
  },
  {
   "cell_type": "code",
   "execution_count": 19,
   "metadata": {},
   "outputs": [
    {
     "name": "stdout",
     "output_type": "stream",
     "text": [
      "<re.Match object; span=(0, 11), match='02-123-4567'>\n",
      "02-123-4567\n",
      "('02', '123', '4567')\n"
     ]
    }
   ],
   "source": [
    "# ------------------------(2-3자리)-(3,4자리)-(4자리) \n",
    "tel_checker=re.compile(r'^(\\d{2,3})-(\\d{3,4})-(\\d{4})$')\n",
    "# [1]\n",
    "result=tel_checker.match('02-123-4567')\n",
    "print(result)\n",
    "print(result.group())\n",
    "print(result.groups())"
   ]
  },
  {
   "cell_type": "code",
   "execution_count": 22,
   "metadata": {},
   "outputs": [
    {
     "name": "stdout",
     "output_type": "stream",
     "text": [
      "02-123-4567\n",
      "('02', '123', '4567')\n",
      "02-123-4567\n",
      "02\n",
      "('123', '4567')\n",
      "0\n",
      "11\n"
     ]
    }
   ],
   "source": [
    "print(result.group())\n",
    "print(result.groups())\n",
    "print(result.group(0))\n",
    "print(result.group(1))\n",
    "print(result.group(2,3))\n",
    "print(result.start())\n",
    "print(result.end())"
   ]
  },
  {
   "cell_type": "code",
   "execution_count": null,
   "metadata": {},
   "outputs": [
    {
     "name": "stdout",
     "output_type": "stream",
     "text": [
      "<re.Match object; span=(0, 12), match='010-123-4567'>\n",
      "<re.Match object; span=(0, 13), match='019-1234-4567'>\n",
      "None\n",
      "None\n"
     ]
    }
   ],
   "source": [
    "# ?:하나의 집단으로 취급, |=또는 기호 사용\n",
    "cell_phone=re.compile(r'^(01(?:0|1|[6-9]))-(\\d{3,4})-(\\d{4})$')\n",
    "print(cell_phone.match('010-123-4567'))\n",
    "print(cell_phone.match('019-1234-4567'))\n",
    "print(cell_phone.match('001-123-4567'))\n",
    "print(cell_phone.match('010-1234567'))"
   ]
  },
  {
   "cell_type": "markdown",
   "metadata": {},
   "source": []
  }
 ],
 "metadata": {
  "kernelspec": {
   "display_name": "bigdata",
   "language": "python",
   "name": "python3"
  },
  "language_info": {
   "codemirror_mode": {
    "name": "ipython",
    "version": 3
   },
   "file_extension": ".py",
   "mimetype": "text/x-python",
   "name": "python",
   "nbconvert_exporter": "python",
   "pygments_lexer": "ipython3",
   "version": "3.12.3"
  }
 },
 "nbformat": 4,
 "nbformat_minor": 2
}
