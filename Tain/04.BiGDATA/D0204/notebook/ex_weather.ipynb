{
 "cells": [
  {
   "cell_type": "code",
   "execution_count": 1,
   "metadata": {},
   "outputs": [],
   "source": [
    "import pandas as pd\n",
    "import csv\n",
    "import matplotlib.pyplot as plt\n",
    "import koreanize_matplotlib\n",
    "import pandas as pd"
   ]
  },
  {
   "cell_type": "code",
   "execution_count": 2,
   "metadata": {},
   "outputs": [],
   "source": [
    "DF=pd.read_csv('./data/daegu1.csv',encoding='euc-kr')"
   ]
  },
  {
   "cell_type": "code",
   "execution_count": 3,
   "metadata": {},
   "outputs": [
    {
     "data": {
      "text/plain": [
       "0       1907-01-31\n",
       "1       1907-02-01\n",
       "2       1907-02-02\n",
       "3       1907-02-03\n",
       "4       1907-02-04\n",
       "           ...    \n",
       "43100   2025-01-31\n",
       "43101   2025-02-01\n",
       "43102   2025-02-02\n",
       "43103   2025-02-03\n",
       "43104          NaT\n",
       "Name: 날짜, Length: 43105, dtype: datetime64[ns]"
      ]
     },
     "execution_count": 3,
     "metadata": {},
     "output_type": "execute_result"
    }
   ],
   "source": [
    "DF.columns=['날짜', '지점', '평균기온', '최저기온', '최고기온']\n",
    "DF['날짜']=pd.to_datetime(DF['날짜'],format='%Y-%m-%d')\n",
    "DF['날짜']"
   ]
  },
  {
   "cell_type": "code",
   "execution_count": 4,
   "metadata": {},
   "outputs": [
    {
     "name": "stdout",
     "output_type": "stream",
     "text": [
      "컬럼명: 날짜\n",
      "결측치: 1\n",
      "정상값: 43104\n",
      "--------------------------------------------------\n",
      "컬럼명: 지점\n",
      "결측치: 1\n",
      "정상값: 43104\n",
      "--------------------------------------------------\n",
      "컬럼명: 평균기온\n",
      "결측치: 703\n",
      "정상값: 42402\n",
      "--------------------------------------------------\n",
      "컬럼명: 최저기온\n",
      "결측치: 630\n",
      "정상값: 42475\n",
      "--------------------------------------------------\n",
      "컬럼명: 최고기온\n",
      "결측치: 632\n",
      "정상값: 42473\n",
      "--------------------------------------------------\n"
     ]
    }
   ],
   "source": [
    "for x in range(len(DF.columns)):\n",
    "    print(f'컬럼명: {DF.columns[x]}\\n결측치: {DF.iloc[:,x].isna().sum()}\\n정상값: {DF.shape[0]-DF.iloc[:,x].isna().sum()}')\n",
    "    print('-'*50)"
   ]
  },
  {
   "cell_type": "code",
   "execution_count": 5,
   "metadata": {},
   "outputs": [],
   "source": [
    "DF.dropna(inplace=True)\n",
    "DF.to_csv('./data/daegu-utf8-df.csv',index=False,mode='w',encoding='utf-8')"
   ]
  },
  {
   "cell_type": "code",
   "execution_count": 6,
   "metadata": {},
   "outputs": [
    {
     "name": "stdout",
     "output_type": "stream",
     "text": [
      "특정 연도와 달의 최고,최저 기온 평균값 계산\n"
     ]
    },
    {
     "data": {
      "text/html": [
       "<div>\n",
       "<style scoped>\n",
       "    .dataframe tbody tr th:only-of-type {\n",
       "        vertical-align: middle;\n",
       "    }\n",
       "\n",
       "    .dataframe tbody tr th {\n",
       "        vertical-align: top;\n",
       "    }\n",
       "\n",
       "    .dataframe thead th {\n",
       "        text-align: right;\n",
       "    }\n",
       "</style>\n",
       "<table border=\"1\" class=\"dataframe\">\n",
       "  <thead>\n",
       "    <tr style=\"text-align: right;\">\n",
       "      <th></th>\n",
       "      <th>날짜</th>\n",
       "      <th>지점</th>\n",
       "      <th>평균기온</th>\n",
       "      <th>최저기온</th>\n",
       "      <th>최고기온</th>\n",
       "    </tr>\n",
       "    <tr>\n",
       "      <th>순번</th>\n",
       "      <th></th>\n",
       "      <th></th>\n",
       "      <th></th>\n",
       "      <th></th>\n",
       "      <th></th>\n",
       "    </tr>\n",
       "  </thead>\n",
       "  <tbody>\n",
       "    <tr>\n",
       "      <th>42704</th>\n",
       "      <td>2024-01-01</td>\n",
       "      <td>143.0</td>\n",
       "      <td>3.9</td>\n",
       "      <td>-1.7</td>\n",
       "      <td>10.2</td>\n",
       "    </tr>\n",
       "    <tr>\n",
       "      <th>42705</th>\n",
       "      <td>2024-01-02</td>\n",
       "      <td>143.0</td>\n",
       "      <td>6.1</td>\n",
       "      <td>2.5</td>\n",
       "      <td>10.6</td>\n",
       "    </tr>\n",
       "    <tr>\n",
       "      <th>42706</th>\n",
       "      <td>2024-01-03</td>\n",
       "      <td>143.0</td>\n",
       "      <td>4.1</td>\n",
       "      <td>1.8</td>\n",
       "      <td>7.1</td>\n",
       "    </tr>\n",
       "    <tr>\n",
       "      <th>42707</th>\n",
       "      <td>2024-01-04</td>\n",
       "      <td>143.0</td>\n",
       "      <td>3.0</td>\n",
       "      <td>-1.9</td>\n",
       "      <td>9.2</td>\n",
       "    </tr>\n",
       "    <tr>\n",
       "      <th>42708</th>\n",
       "      <td>2024-01-05</td>\n",
       "      <td>143.0</td>\n",
       "      <td>4.6</td>\n",
       "      <td>-2.5</td>\n",
       "      <td>12.5</td>\n",
       "    </tr>\n",
       "  </tbody>\n",
       "</table>\n",
       "</div>"
      ],
      "text/plain": [
       "              날짜     지점  평균기온  최저기온  최고기온\n",
       "순번                                       \n",
       "42704 2024-01-01  143.0   3.9  -1.7  10.2\n",
       "42705 2024-01-02  143.0   6.1   2.5  10.6\n",
       "42706 2024-01-03  143.0   4.1   1.8   7.1\n",
       "42707 2024-01-04  143.0   3.0  -1.9   9.2\n",
       "42708 2024-01-05  143.0   4.6  -2.5  12.5"
      ]
     },
     "execution_count": 6,
     "metadata": {},
     "output_type": "execute_result"
    }
   ],
   "source": [
    "print('특정 연도와 달의 최고,최저 기온 평균값 계산')\n",
    "year_DF=DF[DF['날짜'].dt.year==2024]\n",
    "mon_DF=year_DF[year_DF['날짜'].dt.month==1]\n",
    "mon_DF.index.name='순번'\n",
    "mon_DF.head()"
   ]
  },
  {
   "cell_type": "code",
   "execution_count": 7,
   "metadata": {},
   "outputs": [
    {
     "name": "stdout",
     "output_type": "stream",
     "text": [
      "2024년 1월 최고기온 평균: 7.6, 최저기온 평균: -2.1\n"
     ]
    }
   ],
   "source": [
    "print(f'2024년 1월 최고기온 평균: {mon_DF['최고기온'].mean():.1f}, 최저기온 평균: {mon_DF['최저기온'].mean():.1f}')"
   ]
  },
  {
   "cell_type": "code",
   "execution_count": 8,
   "metadata": {},
   "outputs": [
    {
     "data": {
      "text/plain": [
       "{'whiskers': [<matplotlib.lines.Line2D at 0x25bc9e23ce0>,\n",
       "  <matplotlib.lines.Line2D at 0x25bc9e23980>],\n",
       " 'caps': [<matplotlib.lines.Line2D at 0x25bc9e23680>,\n",
       "  <matplotlib.lines.Line2D at 0x25bc9e23350>],\n",
       " 'boxes': [<matplotlib.lines.Line2D at 0x25bc9e23f80>],\n",
       " 'medians': [<matplotlib.lines.Line2D at 0x25bc9e23050>],\n",
       " 'fliers': [<matplotlib.lines.Line2D at 0x25bc9e22d20>],\n",
       " 'means': []}"
      ]
     },
     "execution_count": 8,
     "metadata": {},
     "output_type": "execute_result"
    },
    {
     "data": {
      "image/png": "[encoded data removed]",
      "text/plain": [
       "<Figure size 640x480 with 1 Axes>"
      ]
     },
     "metadata": {},
     "output_type": "display_data"
    }
   ],
   "source": [
    "plt.boxplot(DF['최저기온'][DF['날짜'].dt.month==8])"
   ]
  },
  {
   "cell_type": "code",
   "execution_count": 55,
   "metadata": {},
   "outputs": [],
   "source": [
    "\n",
    "            "
   ]
  }
 ],
 "metadata": {
  "kernelspec": {
   "display_name": "bigdata",
   "language": "python",
   "name": "python3"
  },
  "language_info": {
   "codemirror_mode": {
    "name": "ipython",
    "version": 3
   },
   "file_extension": ".py",
   "mimetype": "text/x-python",
   "name": "python",
   "nbconvert_exporter": "python",
   "pygments_lexer": "ipython3",
   "version": "3.12.8"
  }
 },
 "nbformat": 4,
 "nbformat_minor": 2
}
