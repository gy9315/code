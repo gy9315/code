{
 "cells": [
  {
   "cell_type": "markdown",
   "metadata": {},
   "source": [
    "[여러개 파일 가져오기]\n",
    "- os모듈 사용\n"
   ]
  },
  {
   "cell_type": "code",
   "execution_count": 1,
   "metadata": {},
   "outputs": [],
   "source": [
    "import pandas as pd\n",
    "import os"
   ]
  },
  {
   "cell_type": "code",
   "execution_count": 4,
   "metadata": {},
   "outputs": [
    {
     "name": "stdout",
     "output_type": "stream",
     "text": [
      "['titanic.csv', 'titanic_deck_info.csv', '남북한발전전력량.xlsx', '시도별 전출입 인구수.xlsx']\n",
      "../DATA/titanic.csv\n",
      "../DATA/titanic_deck_info.csv\n",
      "../DATA/남북한발전전력량.xlsx\n",
      "../DATA/시도별 전출입 인구수.xlsx\n"
     ]
    }
   ],
   "source": [
    "path='../DATA/'\n",
    "if os.path.exists(path):\n",
    "    print(os.listdir(path))\n",
    "    for filename in os.listdir(path):\n",
    "        print(path+filename)"
   ]
  }
 ],
 "metadata": {
  "kernelspec": {
   "display_name": "PY39",
   "language": "python",
   "name": "python3"
  },
  "language_info": {
   "codemirror_mode": {
    "name": "ipython",
    "version": 3
   },
   "file_extension": ".py",
   "mimetype": "text/x-python",
   "name": "python",
   "nbconvert_exporter": "python",
   "pygments_lexer": "ipython3",
   "version": "3.9.21"
  }
 },
 "nbformat": 4,
 "nbformat_minor": 2
}
